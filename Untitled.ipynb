{
 "cells": [
  {
   "cell_type": "code",
   "execution_count": 3,
   "id": "d43cd816-93c2-48b3-8d14-f2a476f76b8d",
   "metadata": {},
   "outputs": [],
   "source": [
    "import pandas as pd \n",
    "import numpy as np"
   ]
  },
  {
   "cell_type": "code",
   "execution_count": 4,
   "id": "ccce1d33-254b-4f3b-be18-98ed090e770e",
   "metadata": {},
   "outputs": [],
   "source": [
    "# CSV dosyasının yolu\n",
    "csv_path = \"C:/Users/Lenovo/Desktop/project_folder2/train_csv/train-annotations-bbox.csv\"\n",
    "df = pd.read_csv(csv_path)\n",
    "\n",
    "# Gerekli klasörleri ayarla\n",
    "images_dir = \"C:/Users/Lenovo/Desktop/project_folder2/train/images\"\n",
    "labels_dir = \"C:/Users/Lenovo/Desktop/project_folder2/train/labels\"\n",
    "os.makedirs(labels_dir, exist_ok=True)\n",
    "\n",
    "# \"Airplane\" sınıf ID'si (örneğin, 0)\n",
    "class_id = 0\n",
    "\n",
    "# images klasöründeki görüntü dosyalarını al\n",
    "image_files = set(os.listdir(images_dir))\n",
    "image_ids = {img.split('.')[0] for img in image_files}  # Görüntü ID'leri\n",
    "\n",
    "# Her görüntü ID'si için etiket dosyasını oluştur\n",
    "for image_id, group in df.groupby(\"ImageID\"):\n",
    "    if image_id in image_ids:  # Sadece images klasöründe bulunan ID'ler için çalış\n",
    "        label_file_path = os.path.join(labels_dir, f\"{image_id}.txt\")\n",
    "        with open(label_file_path, 'w') as f:\n",
    "            for _, row in group.iterrows():\n",
    "                # YOLO formatına uygun koordinatları hesapla\n",
    "                x_center = (row[\"XMin\"] + row[\"XMax\"]) / 2\n",
    "                y_center = (row[\"YMin\"] + row[\"YMax\"]) / 2\n",
    "                width = row[\"XMax\"] - row[\"XMin\"]\n",
    "                height = row[\"YMax\"] - row[\"YMin\"]\n",
    "                \n",
    "                # Sınıf ID'si ve normalleştirilmiş koordinatları yaz\n",
    "                f.write(f\"{class_id} {x_center} {y_center} {width} {height}\\n\")\n"
   ]
  },
  {
   "cell_type": "code",
   "execution_count": 5,
   "id": "d7f15d0e-4aa9-4626-bbf4-1bf1cc364e81",
   "metadata": {},
   "outputs": [],
   "source": [
    "# CSV dosyasının yolu (validation verisi için)\n",
    "csv_path = \"C:/Users/Lenovo/Desktop/project_folder2/validation_csv/validation-annotations-bbox.csv\"\n",
    "df = pd.read_csv(csv_path)\n",
    "\n",
    "# Gerekli klasörleri ayarla (validation verisi için)\n",
    "validation_images_dir = \"C:/Users/Lenovo/Desktop/project_folder2/validation/images\"\n",
    "validation_labels_dir = \"C:/Users/Lenovo/Desktop/project_folder2/validation/labels\"\n",
    "os.makedirs(validation_labels_dir, exist_ok=True)\n",
    "\n",
    "# \"Airplane\" sınıf ID'si (örneğin, 0)\n",
    "class_id = 0\n",
    "\n",
    "# images klasöründeki görüntü dosyalarını al\n",
    "validation_image_files = set(os.listdir(validation_images_dir))\n",
    "validation_image_ids = {img.split('.')[0] for img in validation_image_files}  # Görüntü ID'leri\n",
    "\n",
    "# Her görüntü ID'si için etiket dosyasını oluştur\n",
    "for image_id, group in df.groupby(\"ImageID\"):\n",
    "    if image_id in validation_image_ids:  # Sadece images klasöründe bulunan ID'ler için çalış\n",
    "        label_file_path = os.path.join(validation_labels_dir, f\"{image_id}.txt\")\n",
    "        with open(label_file_path, 'w') as f:\n",
    "            for _, row in group.iterrows():\n",
    "                # YOLO formatına uygun koordinatları hesapla\n",
    "                x_center = (row[\"XMin\"] + row[\"XMax\"]) / 2\n",
    "                y_center = (row[\"YMin\"] + row[\"YMax\"]) / 2\n",
    "                width = row[\"XMax\"] - row[\"XMin\"]\n",
    "                height = row[\"YMax\"] - row[\"YMin\"]\n",
    "                \n",
    "                # Sınıf ID'si ve normalleştirilmiş koordinatları yaz\n",
    "                f.write(f\"{class_id} {x_center} {y_center} {width} {height}\\n\")\n"
   ]
  },
  {
   "cell_type": "code",
   "execution_count": 6,
   "id": "825d7ba9-7191-41b6-a5a4-aba5da759b87",
   "metadata": {},
   "outputs": [
    {
     "name": "stdout",
     "output_type": "stream",
     "text": [
      "Requirement already satisfied: ultralytics in c:\\users\\lenovo\\.conda\\envs\\py3_8\\lib\\site-packages (8.3.9)\n",
      "Requirement already satisfied: numpy>=1.23.0 in c:\\users\\lenovo\\.conda\\envs\\py3_8\\lib\\site-packages (from ultralytics) (1.24.3)\n",
      "Requirement already satisfied: matplotlib>=3.3.0 in c:\\users\\lenovo\\.conda\\envs\\py3_8\\lib\\site-packages (from ultralytics) (3.7.5)\n",
      "Requirement already satisfied: opencv-python>=4.6.0 in c:\\users\\lenovo\\.conda\\envs\\py3_8\\lib\\site-packages (from ultralytics) (4.10.0)\n",
      "Requirement already satisfied: pillow>=7.1.2 in c:\\users\\lenovo\\.conda\\envs\\py3_8\\lib\\site-packages (from ultralytics) (10.4.0)\n",
      "Requirement already satisfied: pyyaml>=5.3.1 in c:\\users\\lenovo\\.conda\\envs\\py3_8\\lib\\site-packages (from ultralytics) (6.0.1)\n",
      "Requirement already satisfied: requests>=2.23.0 in c:\\users\\lenovo\\.conda\\envs\\py3_8\\lib\\site-packages (from ultralytics) (2.32.3)\n",
      "Requirement already satisfied: scipy>=1.4.1 in c:\\users\\lenovo\\.conda\\envs\\py3_8\\lib\\site-packages (from ultralytics) (1.10.1)\n",
      "Requirement already satisfied: torch>=1.8.0 in c:\\users\\lenovo\\.conda\\envs\\py3_8\\lib\\site-packages (from ultralytics) (2.4.1)\n",
      "Requirement already satisfied: torchvision>=0.9.0 in c:\\users\\lenovo\\.conda\\envs\\py3_8\\lib\\site-packages (from ultralytics) (0.19.1)\n",
      "Requirement already satisfied: tqdm>=4.64.0 in c:\\users\\lenovo\\.conda\\envs\\py3_8\\lib\\site-packages (from ultralytics) (4.66.5)\n",
      "Requirement already satisfied: psutil in c:\\users\\lenovo\\.conda\\envs\\py3_8\\lib\\site-packages (from ultralytics) (5.9.0)\n",
      "Requirement already satisfied: py-cpuinfo in c:\\users\\lenovo\\.conda\\envs\\py3_8\\lib\\site-packages (from ultralytics) (9.0.0)\n",
      "Requirement already satisfied: pandas>=1.1.4 in c:\\users\\lenovo\\.conda\\envs\\py3_8\\lib\\site-packages (from ultralytics) (2.0.3)\n",
      "Requirement already satisfied: seaborn>=0.11.0 in c:\\users\\lenovo\\.conda\\envs\\py3_8\\lib\\site-packages (from ultralytics) (0.13.2)\n",
      "Requirement already satisfied: ultralytics-thop>=2.0.0 in c:\\users\\lenovo\\.conda\\envs\\py3_8\\lib\\site-packages (from ultralytics) (2.0.9)\n",
      "Requirement already satisfied: contourpy>=1.0.1 in c:\\users\\lenovo\\.conda\\envs\\py3_8\\lib\\site-packages (from matplotlib>=3.3.0->ultralytics) (1.1.1)\n",
      "Requirement already satisfied: cycler>=0.10 in c:\\users\\lenovo\\.conda\\envs\\py3_8\\lib\\site-packages (from matplotlib>=3.3.0->ultralytics) (0.12.1)\n",
      "Requirement already satisfied: fonttools>=4.22.0 in c:\\users\\lenovo\\.conda\\envs\\py3_8\\lib\\site-packages (from matplotlib>=3.3.0->ultralytics) (4.54.1)\n",
      "Requirement already satisfied: kiwisolver>=1.0.1 in c:\\users\\lenovo\\.conda\\envs\\py3_8\\lib\\site-packages (from matplotlib>=3.3.0->ultralytics) (1.4.7)\n",
      "Requirement already satisfied: packaging>=20.0 in c:\\users\\lenovo\\.conda\\envs\\py3_8\\lib\\site-packages (from matplotlib>=3.3.0->ultralytics) (24.1)\n",
      "Requirement already satisfied: pyparsing>=2.3.1 in c:\\users\\lenovo\\.conda\\envs\\py3_8\\lib\\site-packages (from matplotlib>=3.3.0->ultralytics) (3.1.4)\n",
      "Requirement already satisfied: python-dateutil>=2.7 in c:\\users\\lenovo\\.conda\\envs\\py3_8\\lib\\site-packages (from matplotlib>=3.3.0->ultralytics) (2.9.0.post0)\n",
      "Requirement already satisfied: importlib-resources>=3.2.0 in c:\\users\\lenovo\\.conda\\envs\\py3_8\\lib\\site-packages (from matplotlib>=3.3.0->ultralytics) (6.4.0)\n",
      "Requirement already satisfied: pytz>=2020.1 in c:\\users\\lenovo\\.conda\\envs\\py3_8\\lib\\site-packages (from pandas>=1.1.4->ultralytics) (2024.1)\n",
      "Requirement already satisfied: tzdata>=2022.1 in c:\\users\\lenovo\\.conda\\envs\\py3_8\\lib\\site-packages (from pandas>=1.1.4->ultralytics) (2024.2)\n",
      "Requirement already satisfied: charset-normalizer<4,>=2 in c:\\users\\lenovo\\.conda\\envs\\py3_8\\lib\\site-packages (from requests>=2.23.0->ultralytics) (3.3.2)\n",
      "Requirement already satisfied: idna<4,>=2.5 in c:\\users\\lenovo\\.conda\\envs\\py3_8\\lib\\site-packages (from requests>=2.23.0->ultralytics) (3.7)\n",
      "Requirement already satisfied: urllib3<3,>=1.21.1 in c:\\users\\lenovo\\.conda\\envs\\py3_8\\lib\\site-packages (from requests>=2.23.0->ultralytics) (1.26.20)\n",
      "Requirement already satisfied: certifi>=2017.4.17 in c:\\users\\lenovo\\.conda\\envs\\py3_8\\lib\\site-packages (from requests>=2.23.0->ultralytics) (2024.8.30)\n",
      "Requirement already satisfied: filelock in c:\\users\\lenovo\\.conda\\envs\\py3_8\\lib\\site-packages (from torch>=1.8.0->ultralytics) (3.16.1)\n",
      "Requirement already satisfied: typing-extensions>=4.8.0 in c:\\users\\lenovo\\.conda\\envs\\py3_8\\lib\\site-packages (from torch>=1.8.0->ultralytics) (4.11.0)\n",
      "Requirement already satisfied: sympy in c:\\users\\lenovo\\.conda\\envs\\py3_8\\lib\\site-packages (from torch>=1.8.0->ultralytics) (1.13.3)\n",
      "Requirement already satisfied: networkx in c:\\users\\lenovo\\.conda\\envs\\py3_8\\lib\\site-packages (from torch>=1.8.0->ultralytics) (3.1)\n",
      "Requirement already satisfied: jinja2 in c:\\users\\lenovo\\.conda\\envs\\py3_8\\lib\\site-packages (from torch>=1.8.0->ultralytics) (3.1.4)\n",
      "Requirement already satisfied: fsspec in c:\\users\\lenovo\\.conda\\envs\\py3_8\\lib\\site-packages (from torch>=1.8.0->ultralytics) (2024.9.0)\n",
      "Requirement already satisfied: colorama in c:\\users\\lenovo\\.conda\\envs\\py3_8\\lib\\site-packages (from tqdm>=4.64.0->ultralytics) (0.4.6)\n",
      "Requirement already satisfied: zipp>=3.1.0 in c:\\users\\lenovo\\.conda\\envs\\py3_8\\lib\\site-packages (from importlib-resources>=3.2.0->matplotlib>=3.3.0->ultralytics) (3.17.0)\n",
      "Requirement already satisfied: six>=1.5 in c:\\users\\lenovo\\.conda\\envs\\py3_8\\lib\\site-packages (from python-dateutil>=2.7->matplotlib>=3.3.0->ultralytics) (1.16.0)\n",
      "Requirement already satisfied: MarkupSafe>=2.0 in c:\\users\\lenovo\\.conda\\envs\\py3_8\\lib\\site-packages (from jinja2->torch>=1.8.0->ultralytics) (2.1.3)\n",
      "Requirement already satisfied: mpmath<1.4,>=1.1.0 in c:\\users\\lenovo\\.conda\\envs\\py3_8\\lib\\site-packages (from sympy->torch>=1.8.0->ultralytics) (1.3.0)\n"
     ]
    }
   ],
   "source": [
    "!pip install ultralytics\n"
   ]
  },
  {
   "cell_type": "code",
   "execution_count": 2,
   "id": "e76afa41-002e-4ef2-bd6e-15a85fdfe5e2",
   "metadata": {},
   "outputs": [],
   "source": [
    "from ultralytics import YOLO\n",
    "\n",
    "# YOLO modelini yükle\n",
    "model = YOLO(\"yolov8n.pt\")  # Pre-trained model kullanabilirsiniz\n",
    "\n"
   ]
  },
  {
   "cell_type": "code",
   "execution_count": 12,
   "id": "6fd9b698-1f67-4eed-b842-20c9fd573bd7",
   "metadata": {},
   "outputs": [
    {
     "name": "stdout",
     "output_type": "stream",
     "text": [
      "C:/Users/Lenovo/Desktop/project_folder2/data.yaml dosyası başarıyla oluşturuldu!\n"
     ]
    }
   ],
   "source": [
    "import yaml\n",
    "import os\n",
    "\n",
    "# Yeni bir data.yaml dosyası oluşturmak için veri kümesi yolunu belirtin\n",
    "data_yaml_path = \"C:/Users/Lenovo/Desktop/project_folder2/data.yaml\"\n",
    "\n",
    "# Etiket sınıf adı (sizin durumunuzda sadece 'Airplane' olduğu için tek bir sınıf var)\n",
    "class_names = ['Airplane']\n",
    "\n",
    "# Eğitim ve doğrulama setlerinin dizin yollarını belirtin\n",
    "train_images_dir = \"C:/Users/Lenovo/Desktop/project_folder2/train/images\"\n",
    "train_labels_dir = \"C:/Users/Lenovo/Desktop/project_folder2/train/labels\"\n",
    "validation_images_dir = \"C:/Users/Lenovo/Desktop/project_folder2/validation/images\"  # 'val' yerine 'validation'\n",
    "validation_labels_dir = \"C:/Users/Lenovo/Desktop/project_folder2/validation/labels\"  # 'val' yerine 'validation'\n",
    "\n",
    "# YAML dosyasının içeriğini oluşturuyoruz\n",
    "data = {\n",
    "    'train': train_images_dir,\n",
    "    'val': validation_images_dir,  # 'val' yerine 'validation'\n",
    "    'nc': len(class_names),  # Sınıf sayısı\n",
    "    'names': class_names,    # Sınıf isimleri\n",
    "}\n",
    "\n",
    "# YAML dosyasını yazma işlemi\n",
    "with open(data_yaml_path, 'w') as file:\n",
    "    yaml.dump(data, file)\n",
    "\n",
    "print(f\"{data_yaml_path} dosyası başarıyla oluşturuldu!\")\n"
   ]
  },
  {
   "cell_type": "code",
   "execution_count": null,
   "id": "bca92999-9d6b-4200-80d1-1bf81224bf58",
   "metadata": {},
   "outputs": [
    {
     "name": "stdout",
     "output_type": "stream",
     "text": [
      "New https://pypi.org/project/ultralytics/8.3.29 available  Update with 'pip install -U ultralytics'\n",
      "Ultralytics 8.3.9  Python-3.8.20 torch-2.4.1+cpu CPU (11th Gen Intel Core(TM) i3-1115G4 3.00GHz)\n",
      "\u001b[34m\u001b[1mengine\\trainer: \u001b[0mtask=detect, mode=train, model=yolov8n.pt, data=C:/Users/Lenovo/Desktop/project_folder2/data.yaml, epochs=5, time=None, patience=100, batch=16, imgsz=640, save=True, save_period=-1, cache=False, device=None, workers=4, project=None, name=train5, exist_ok=False, pretrained=True, optimizer=auto, verbose=True, seed=0, deterministic=True, single_cls=False, rect=False, cos_lr=False, close_mosaic=10, resume=False, amp=True, fraction=1.0, profile=False, freeze=None, multi_scale=False, overlap_mask=True, mask_ratio=4, dropout=0.0, val=True, split=val, save_json=False, save_hybrid=False, conf=None, iou=0.7, max_det=300, half=False, dnn=False, plots=True, source=None, vid_stride=1, stream_buffer=False, visualize=False, augment=False, agnostic_nms=False, classes=None, retina_masks=False, embed=None, show=False, save_frames=False, save_txt=False, save_conf=False, save_crop=False, show_labels=True, show_conf=True, show_boxes=True, line_width=None, format=torchscript, keras=False, optimize=False, int8=False, dynamic=False, simplify=True, opset=None, workspace=4, nms=False, lr0=0.01, lrf=0.01, momentum=0.937, weight_decay=0.0005, warmup_epochs=3.0, warmup_momentum=0.8, warmup_bias_lr=0.1, box=7.5, cls=0.5, dfl=1.5, pose=12.0, kobj=1.0, label_smoothing=0.0, nbs=64, hsv_h=0.015, hsv_s=0.7, hsv_v=0.4, degrees=0.0, translate=0.1, scale=0.5, shear=0.0, perspective=0.0, flipud=0.0, fliplr=0.5, bgr=0.0, mosaic=1.0, mixup=0.0, copy_paste=0.0, copy_paste_mode=flip, auto_augment=randaugment, erasing=0.4, crop_fraction=1.0, cfg=None, tracker=botsort.yaml, save_dir=runs\\detect\\train5\n",
      "Overriding model.yaml nc=80 with nc=1\n",
      "\n",
      "                   from  n    params  module                                       arguments                     \n",
      "  0                  -1  1       464  ultralytics.nn.modules.conv.Conv             [3, 16, 3, 2]                 \n",
      "  1                  -1  1      4672  ultralytics.nn.modules.conv.Conv             [16, 32, 3, 2]                \n",
      "  2                  -1  1      7360  ultralytics.nn.modules.block.C2f             [32, 32, 1, True]             \n",
      "  3                  -1  1     18560  ultralytics.nn.modules.conv.Conv             [32, 64, 3, 2]                \n",
      "  4                  -1  2     49664  ultralytics.nn.modules.block.C2f             [64, 64, 2, True]             \n",
      "  5                  -1  1     73984  ultralytics.nn.modules.conv.Conv             [64, 128, 3, 2]               \n",
      "  6                  -1  2    197632  ultralytics.nn.modules.block.C2f             [128, 128, 2, True]           \n",
      "  7                  -1  1    295424  ultralytics.nn.modules.conv.Conv             [128, 256, 3, 2]              \n",
      "  8                  -1  1    460288  ultralytics.nn.modules.block.C2f             [256, 256, 1, True]           \n",
      "  9                  -1  1    164608  ultralytics.nn.modules.block.SPPF            [256, 256, 5]                 \n",
      " 10                  -1  1         0  torch.nn.modules.upsampling.Upsample         [None, 2, 'nearest']          \n",
      " 11             [-1, 6]  1         0  ultralytics.nn.modules.conv.Concat           [1]                           \n",
      " 12                  -1  1    148224  ultralytics.nn.modules.block.C2f             [384, 128, 1]                 \n",
      " 13                  -1  1         0  torch.nn.modules.upsampling.Upsample         [None, 2, 'nearest']          \n",
      " 14             [-1, 4]  1         0  ultralytics.nn.modules.conv.Concat           [1]                           \n",
      " 15                  -1  1     37248  ultralytics.nn.modules.block.C2f             [192, 64, 1]                  \n",
      " 16                  -1  1     36992  ultralytics.nn.modules.conv.Conv             [64, 64, 3, 2]                \n",
      " 17            [-1, 12]  1         0  ultralytics.nn.modules.conv.Concat           [1]                           \n",
      " 18                  -1  1    123648  ultralytics.nn.modules.block.C2f             [192, 128, 1]                 \n",
      " 19                  -1  1    147712  ultralytics.nn.modules.conv.Conv             [128, 128, 3, 2]              \n",
      " 20             [-1, 9]  1         0  ultralytics.nn.modules.conv.Concat           [1]                           \n",
      " 21                  -1  1    493056  ultralytics.nn.modules.block.C2f             [384, 256, 1]                 \n",
      " 22        [15, 18, 21]  1    430867  ultralytics.nn.modules.head.Detect           [1, [64, 128, 256]]           \n",
      "Model summary: 249 layers, 2,690,403 parameters, 2,690,387 gradients, 6.9 GFLOPs\n",
      "\n",
      "Transferred 313/391 items from pretrained weights\n",
      "Freezing layer 'model.22.dfl.conv.weight'\n"
     ]
    },
    {
     "name": "stderr",
     "output_type": "stream",
     "text": [
      "\u001b[34m\u001b[1mtrain: \u001b[0mScanning C:\\Users\\Lenovo\\Desktop\\project_folder2\\train\\labels... 50 images, 0 backgrounds, 0 corrupt: 100%|██████████| 50/50 [00:00<00:00, 1123.63it/s]"
     ]
    },
    {
     "name": "stdout",
     "output_type": "stream",
     "text": [
      "\u001b[34m\u001b[1mtrain: \u001b[0mNew cache created: C:\\Users\\Lenovo\\Desktop\\project_folder2\\train\\labels.cache\n"
     ]
    },
    {
     "name": "stderr",
     "output_type": "stream",
     "text": [
      "\n",
      "\u001b[34m\u001b[1mval: \u001b[0mScanning C:\\Users\\Lenovo\\Desktop\\project_folder2\\validation\\labels... 50 images, 0 backgrounds, 0 corrupt: 100%|██████████| 50/50 [00:00<00:00, 1108.99it/s]"
     ]
    },
    {
     "name": "stdout",
     "output_type": "stream",
     "text": [
      "\u001b[34m\u001b[1mval: \u001b[0mNew cache created: C:\\Users\\Lenovo\\Desktop\\project_folder2\\validation\\labels.cache\n"
     ]
    },
    {
     "name": "stderr",
     "output_type": "stream",
     "text": [
      "\n"
     ]
    },
    {
     "name": "stdout",
     "output_type": "stream",
     "text": [
      "Plotting labels to runs\\detect\\train5\\labels.jpg... \n"
     ]
    }
   ],
   "source": [
    "model.train(data=\"C:/Users/Lenovo/Desktop/project_folder2/data.yaml\", epochs=5, imgsz=640, batch=16, workers=4)\n"
   ]
  },
  {
   "cell_type": "code",
   "execution_count": null,
   "id": "38e1afd8-9d12-4d93-8a7b-ca8bf0c0f10c",
   "metadata": {},
   "outputs": [],
   "source": []
  },
  {
   "cell_type": "code",
   "execution_count": null,
   "id": "5ba785f6-2d7e-40e7-ad7b-0caae9c3a490",
   "metadata": {},
   "outputs": [],
   "source": []
  }
 ],
 "metadata": {
  "kernelspec": {
   "display_name": "Python 3 (ipykernel)",
   "language": "python",
   "name": "python3"
  },
  "language_info": {
   "codemirror_mode": {
    "name": "ipython",
    "version": 3
   },
   "file_extension": ".py",
   "mimetype": "text/x-python",
   "name": "python",
   "nbconvert_exporter": "python",
   "pygments_lexer": "ipython3",
   "version": "3.8.20"
  }
 },
 "nbformat": 4,
 "nbformat_minor": 5
}
